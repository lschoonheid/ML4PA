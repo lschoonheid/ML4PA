{
 "cells": [
  {
   "cell_type": "markdown",
   "metadata": {},
   "source": [
    "# MPL for binary classification"
   ]
  },
  {
   "cell_type": "code",
   "execution_count": 46,
   "metadata": {},
   "outputs": [],
   "source": [
    "import numpy as np\n",
    "from numpy import argmax\n",
    "import pandas as pd\n",
    "import seaborn as sns"
   ]
  },
  {
   "cell_type": "code",
   "execution_count": 47,
   "metadata": {},
   "outputs": [],
   "source": [
    "from sklearn.model_selection import train_test_split\n",
    "from sklearn.metrics import confusion_matrix, roc_curve"
   ]
  },
  {
   "cell_type": "code",
   "execution_count": 48,
   "metadata": {},
   "outputs": [],
   "source": [
    "from sklearn.preprocessing import MinMaxScaler\n",
    "from tensorflow.keras.models import Sequential\n",
    "from tensorflow.keras.layers import Dense, Dropout\n",
    "from IPython.display import Latex"
   ]
  },
  {
   "cell_type": "code",
   "execution_count": 49,
   "metadata": {},
   "outputs": [],
   "source": [
    "import matplotlib.pyplot as plt\n",
    "import sys"
   ]
  },
  {
   "cell_type": "markdown",
   "metadata": {},
   "source": [
    "## Download data:\n",
    "\n",
    "ttbar4top_unsorted.csv-file: https://drive.google.com/file/d/1aDbie_6K9UjCGeOUJU3HWtuUe7P_xUDz/view?usp=sharing\n",
    "\n",
    "ttbar4top_sorted.csv-file: https://drive.google.com/file/d/1LVsZTvEgCq6GAtgyT1aQ1x_iSjAyexmj/view?usp=sharing"
   ]
  },
  {
   "cell_type": "markdown",
   "metadata": {},
   "source": [
    "## The problem\n",
    "\n",
    "Lets first see what this set actually looks like. Download the file, discuss the datastructure. \n",
    "\n",
    "Currently a hot topic at the Large Hadron Collider is the search for the production of 4 of the heaviest quarks (the top quark) in a single event. These special events are called \"4-top events\". A signal for the production of these events has not been observed so far. The discovery of \"4-top events\" is interesting since it might be that more events are measured than expected. This could point to physics beyond the Standard Model of particle physics, since new physical processes could also generate events with 4 top quarks. The top quarks decay to other particles which are then measured in the detector surrounding the point where the quarks were originally produced.\n"
   ]
  },
  {
   "cell_type": "code",
   "execution_count": 50,
   "metadata": {},
   "outputs": [],
   "source": [
    "# Choose your path for ttbar4top_unsorted.csv\n",
    "df2 = pd.read_csv(\"/Users/pmoskvit/NIKHEF_RU/DarkMatter/practice/MLworkshop/ttbar4top_unsorted.csv\", header = None, sep='\\n') # Put data in DataFrame\n",
    "df2 = df2[0].str.split(';|,', expand=True) # Make split along ; and , delimiters\n",
    "df2 = df2.fillna(0) # Replace None values with 0\n",
    "n_obj = (len(df2.columns) - 5) // 5\n",
    "df2 = df2.drop(range(5 + 5 * n_obj, len(df2.columns)), axis = 'columns') # Drop the empty column at the end"
   ]
  },
  {
   "cell_type": "code",
   "execution_count": 51,
   "metadata": {
    "scrolled": true
   },
   "outputs": [
    {
     "name": "stdout",
     "output_type": "stream",
     "text": [
      "        0      1  2        3           4        5        6          7   \\\n",
      "0       21  ttbar  1  19.5924  -0.0410686  431.384  247.371   -1.15222   \n",
      "1       21  ttbar  1  34.3615    -2.39277  104.553  50.5468    1.34776   \n",
      "2       21  ttbar  1   24.356   -0.260029  255.675  73.0861    1.92294   \n",
      "3       21  ttbar  1  36.5657   -0.666041  131.526  78.0257    1.10913   \n",
      "4       21  ttbar  1  8.96628    -1.89928  185.195   79.061   -1.49199   \n",
      "...     ..    ... ..      ...         ...      ...      ...        ...   \n",
      "399995  21  ttbar  1  78.0656    -2.09791  505.124   154.12   -1.85327   \n",
      "399996  21  ttbar  1  16.0266   -0.891785   79.986  79.5125  0.0465189   \n",
      "399997  21  ttbar  1  73.1808      2.4646  194.662  81.8908   -1.50839   \n",
      "399998  21  ttbar  1  8.83062    -2.63331  330.178  195.808   -1.11217   \n",
      "399999  21  ttbar  1  20.8032     -2.6119  93.1788  81.5244   0.497099   \n",
      "\n",
      "              8        9   ...       25       26         27         28  \\\n",
      "0        1.84686  213.946  ...  102.289  79.2795   0.742968  -0.824569   \n",
      "1        2.99585    92.29  ...        0        0          0          0   \n",
      "2       -1.81685  304.656  ...        0        0          0          0   \n",
      "3       -3.06327  481.649  ...        0        0          0          0   \n",
      "4       0.682821  57.3191  ...        0        0          0          0   \n",
      "...          ...      ...  ...      ...      ...        ...        ...   \n",
      "399995   1.07761  64.9411  ...        0        0          0          0   \n",
      "399996    -1.195  101.841  ...        0        0          0          0   \n",
      "399997  0.930927  355.326  ...        0        0          0          0   \n",
      "399998  0.699589  471.226  ...  129.202  55.4708   -1.48016  -0.639354   \n",
      "399999    2.9211  250.919  ...   30.411   25.569  -0.572102  -0.039723   \n",
      "\n",
      "             29       30         31        32       33       34  \n",
      "0       286.397   47.371   -2.48432  0.284316  129.376  31.3222  \n",
      "1             0        0          0         0        0        0  \n",
      "2             0        0          0         0        0        0  \n",
      "3             0        0          0         0        0        0  \n",
      "4             0        0          0         0        0        0  \n",
      "...         ...      ...        ...       ...      ...      ...  \n",
      "399995        0        0          0         0        0        0  \n",
      "399996        0        0          0         0        0        0  \n",
      "399997        0        0          0         0        0        0  \n",
      "399998  53.9184  40.7297  -0.762266  -2.10191        0        0  \n",
      "399999  27.6507  21.7411   0.721561   1.87994        0        0  \n",
      "\n",
      "[400000 rows x 35 columns]\n"
     ]
    }
   ],
   "source": [
    "print(df2)"
   ]
  },
  {
   "cell_type": "code",
   "execution_count": 52,
   "metadata": {},
   "outputs": [],
   "source": [
    "heads=['EventID', 'ProcessID', 'evtweight', 'MET', 'METphi']\n",
    "for i in range (n_obj):\n",
    "  heads.append('obj%d' % i)\n",
    "  heads.append('obj%d_E' % i)\n",
    "  heads.append('obj%d_pt' % i)\n",
    "  heads.append('obj%d_eta' % i)\n",
    "  heads.append('obj%d_phi' % i)\n",
    "df2.columns = df2.columns[:0].tolist() + heads"
   ]
  },
  {
   "cell_type": "code",
   "execution_count": 53,
   "metadata": {},
   "outputs": [
    {
     "data": {
      "text/plain": [
       "0         431.384\n",
       "1         104.553\n",
       "2         255.675\n",
       "3         131.526\n",
       "4         185.195\n",
       "           ...   \n",
       "399995    505.124\n",
       "399996     79.986\n",
       "399997    194.662\n",
       "399998    330.178\n",
       "399999    93.1788\n",
       "Name: obj0, Length: 400000, dtype: object"
      ]
     },
     "execution_count": 53,
     "metadata": {},
     "output_type": "execute_result"
    }
   ],
   "source": [
    "df2.obj0"
   ]
  },
  {
   "cell_type": "code",
   "execution_count": 54,
   "metadata": {},
   "outputs": [
    {
     "name": "stdout",
     "output_type": "stream",
     "text": [
      "       EventID ProcessID evtweight      MET      METphi     obj0   obj0_E  \\\n",
      "0           21     ttbar         1  19.5924  -0.0410686  431.384  247.371   \n",
      "1           21     ttbar         1  34.3615    -2.39277  104.553  50.5468   \n",
      "2           21     ttbar         1   24.356   -0.260029  255.675  73.0861   \n",
      "3           21     ttbar         1  36.5657   -0.666041  131.526  78.0257   \n",
      "4           21     ttbar         1  8.96628    -1.89928  185.195   79.061   \n",
      "...        ...       ...       ...      ...         ...      ...      ...   \n",
      "399995      21     ttbar         1  78.0656    -2.09791  505.124   154.12   \n",
      "399996      21     ttbar         1  16.0266   -0.891785   79.986  79.5125   \n",
      "399997      21     ttbar         1  73.1808      2.4646  194.662  81.8908   \n",
      "399998      21     ttbar         1  8.83062    -2.63331  330.178  195.808   \n",
      "399999      21     ttbar         1  20.8032     -2.6119  93.1788  81.5244   \n",
      "\n",
      "          obj0_pt  obj0_eta obj0_phi  ...     obj4   obj4_E    obj4_pt  \\\n",
      "0        -1.15222   1.84686  213.946  ...  102.289  79.2795   0.742968   \n",
      "1         1.34776   2.99585    92.29  ...        0        0          0   \n",
      "2         1.92294  -1.81685  304.656  ...        0        0          0   \n",
      "3         1.10913  -3.06327  481.649  ...        0        0          0   \n",
      "4        -1.49199  0.682821  57.3191  ...        0        0          0   \n",
      "...           ...       ...      ...  ...      ...      ...        ...   \n",
      "399995   -1.85327   1.07761  64.9411  ...        0        0          0   \n",
      "399996  0.0465189    -1.195  101.841  ...        0        0          0   \n",
      "399997   -1.50839  0.930927  355.326  ...        0        0          0   \n",
      "399998   -1.11217  0.699589  471.226  ...  129.202  55.4708   -1.48016   \n",
      "399999   0.497099    2.9211  250.919  ...   30.411   25.569  -0.572102   \n",
      "\n",
      "         obj4_eta obj4_phi     obj5     obj5_E   obj5_pt obj5_eta obj5_phi  \n",
      "0       -0.824569  286.397   47.371   -2.48432  0.284316  129.376  31.3222  \n",
      "1               0        0        0          0         0        0        0  \n",
      "2               0        0        0          0         0        0        0  \n",
      "3               0        0        0          0         0        0        0  \n",
      "4               0        0        0          0         0        0        0  \n",
      "...           ...      ...      ...        ...       ...      ...      ...  \n",
      "399995          0        0        0          0         0        0        0  \n",
      "399996          0        0        0          0         0        0        0  \n",
      "399997          0        0        0          0         0        0        0  \n",
      "399998  -0.639354  53.9184  40.7297  -0.762266  -2.10191        0        0  \n",
      "399999  -0.039723  27.6507  21.7411   0.721561   1.87994        0        0  \n",
      "\n",
      "[400000 rows x 35 columns]\n"
     ]
    }
   ],
   "source": [
    "print(df2)"
   ]
  },
  {
   "cell_type": "markdown",
   "metadata": {},
   "source": [
    "## The LHC dataset\n",
    "The simulated training and validation data are provided in a one-line-per-event text format (CSV), where each line has variable length and contains 5 event-level quantities followed by low-level features for each object in the event. The format of CSV files are (in one line):\n",
    "\n",
    "event ID; process ID; event weight; MET; METphi; obj1, E1, pt1, eta1, phi1; obj2, E2, pt2,\n",
    "eta2, phi2; $\\ldots$\n",
    "\n",
    "\n",
    "<br>\n",
    "$obj$ specifies the particles detected in the event (e.g. electron (e), photon (p), a so-called jet (j), a so-called b-jet (b) a muon (m) etc.). The + or - specifies the charge of the particle. \n",
    "<br>\n",
    "$E,pt,eta,phi$ specify the 4-vector of the measured particle, i.e. the energy, transverse component of the momentum and the theta (given here in units of pseudorapidity) and phi angles.\n",
    "<br>\n",
    "'event ID' is a serial integer to uniquely identify that particular event in the run.\n",
    "<br>\n",
    "'event weight' is a real number to determine the likelihood of the process. This is a generator quantity and does not exist in real data. It should not be used for \"training\".\n",
    "<br>\n",
    "'process ID' is a string referring to the process which generated the event. In real life events this is unknown on a event-by-event basis, but in simulated data sets (like the one we are providing you with) this information \\textit{is} accessible.\n",
    "<br>\n",
    "'MET and METphi' entries are the magnitude and the azimuthal angle of the missing transverse energy vector of the event, respectively. \"Missing\" means that this momentum is taken away by undetected particles, e.g. neutrinos.\n",
    "<br>\n",
    "\n",
    "As an example, an event corresponding to the final state of the \n",
    "background $t\\bar{t}+2j$ process with two $b$-jets and one jet reads as follows:\n",
    "<br>\n",
    "$$\n",
    "94;ttbar\n",
    ";0.00167779;112288;1.74766;b,331927,147558,-1.44969,-1.76399;j,100406,85589,-0.568259,-1.17144;b,55808.8,54391.4,\n",
    "-0.198215,1.726;j,72078.9,52432.5,-0.835736,1.57786;j,78649.8,40071.4,-1.28827,0.106601;\n",
    "0.0133287; 57663.6; -2.81632; b,100054,-1.22689,0.177731;\n",
    ";\n",
    "$$"
   ]
  },
  {
   "cell_type": "markdown",
   "metadata": {},
   "source": [
    "### Question 1: Discuss the data ? How many features do you expect ? Is this a problem?\n",
    "\n",
    "### Question 2: How can we deal with this problem ? What was done in the dataset below ? Compare the first event between the two datasets."
   ]
  },
  {
   "cell_type": "code",
   "execution_count": 55,
   "metadata": {},
   "outputs": [],
   "source": [
    "# Choose your path for ttbar4top_sorted.csv\n",
    "df = pd.read_csv(\"//Users/pmoskvit/NIKHEF_RU/DarkMatter/practice/MLworkshop/ttbar4top_sorted.csv\", header = 0, sep=',') # Put data in DataFrame\n",
    "df = df.fillna(0) # Replace None values with 0"
   ]
  },
  {
   "cell_type": "markdown",
   "metadata": {},
   "source": [
    "Explain the format of the second csv file ...."
   ]
  },
  {
   "cell_type": "markdown",
   "metadata": {},
   "source": [
    "### Question 3: Next we are normalizing the data. Why and how do we do this ?"
   ]
  },
  {
   "cell_type": "code",
   "execution_count": 56,
   "metadata": {},
   "outputs": [],
   "source": [
    "def log_norm(data):\n",
    "  return [np.log(elem) if elem!=0 else 0 for elem in data]"
   ]
  },
  {
   "cell_type": "code",
   "execution_count": 57,
   "metadata": {},
   "outputs": [],
   "source": [
    "def z_norm(data):\n",
    "  mean = data.mean()\n",
    "  std = data.std()\n",
    "  print(\"z_norm:mean=\",mean)\n",
    "  print(\"z_norm:std=\",std)\n",
    "  return [(x - mean) / std if x!=0 else 0 for x in data]"
   ]
  },
  {
   "cell_type": "code",
   "execution_count": 58,
   "metadata": {},
   "outputs": [],
   "source": [
    "def minmax_norm(data, min, max):\n",
    "  return [(elem-min)/(abs(min)+abs(max)) if elem!=0 else 0 for elem in data]"
   ]
  },
  {
   "cell_type": "code",
   "execution_count": 59,
   "metadata": {},
   "outputs": [],
   "source": [
    "def make_norm(objname):\n",
    "  df[objname + '_E'] = z_norm(df[objname + '_E'].astype(float))\n",
    "  df[objname + '_pt'] = z_norm(df[objname + '_pt'].astype(float))\n",
    "  df[objname + '_eta'] = minmax_norm(df[objname + '_eta'].astype(float), -6, 6) \n",
    "  df[objname + '_phi'] = minmax_norm(df[objname + '_phi'].astype(float), -3.1415, 3.1415)"
   ]
  },
  {
   "cell_type": "code",
   "execution_count": 60,
   "metadata": {},
   "outputs": [
    {
     "name": "stdout",
     "output_type": "stream",
     "text": [
      "        EventID ProcessID  evtweight       MET    METphi  n_bjet  n_qjet  \\\n",
      "0            21     ttbar        1.0  19.59240 -0.041069       2       6   \n",
      "1            21     ttbar        1.0  34.36150 -2.392770       2       0   \n",
      "2            21     ttbar        1.0  24.35600 -0.260029       1       2   \n",
      "3            21     ttbar        1.0  36.56570 -0.666041       3       2   \n",
      "4            21     ttbar        1.0   8.96628 -1.899280       0       4   \n",
      "...         ...       ...        ...       ...       ...     ...     ...   \n",
      "399995       21     ttbar        1.0  78.06560 -2.097910       3       2   \n",
      "399996       21     ttbar        1.0  16.02660 -0.891785       1       4   \n",
      "399997       21     ttbar        1.0  73.18080  2.464600       0       3   \n",
      "399998       21     ttbar        1.0   8.83062 -2.633310       1       6   \n",
      "399999       21     ttbar        1.0  20.80320 -2.611900       1       5   \n",
      "\n",
      "        n_muon  n_elec  n_lept  ...  lept3_charge  lept3_E  lept3_pt  \\\n",
      "0            0       0       0  ...             0      0.0       0.0   \n",
      "1            0       1       1  ...             0      0.0       0.0   \n",
      "2            1       0       1  ...             0      0.0       0.0   \n",
      "3            0       0       0  ...             0      0.0       0.0   \n",
      "4            0       0       0  ...             0      0.0       0.0   \n",
      "...        ...     ...     ...  ...           ...      ...       ...   \n",
      "399995       0       0       0  ...             0      0.0       0.0   \n",
      "399996       0       0       0  ...             0      0.0       0.0   \n",
      "399997       1       0       1  ...             0      0.0       0.0   \n",
      "399998       0       0       0  ...             0      0.0       0.0   \n",
      "399999       0       1       1  ...             0      0.0       0.0   \n",
      "\n",
      "        lept3_eta  lept3_phi  lept4_charge  lept4_E  lept4_pt  lept4_eta  \\\n",
      "0             0.0        0.0             0      0.0       0.0        0.0   \n",
      "1             0.0        0.0             0      0.0       0.0        0.0   \n",
      "2             0.0        0.0             0      0.0       0.0        0.0   \n",
      "3             0.0        0.0             0      0.0       0.0        0.0   \n",
      "4             0.0        0.0             0      0.0       0.0        0.0   \n",
      "...           ...        ...           ...      ...       ...        ...   \n",
      "399995        0.0        0.0             0      0.0       0.0        0.0   \n",
      "399996        0.0        0.0             0      0.0       0.0        0.0   \n",
      "399997        0.0        0.0             0      0.0       0.0        0.0   \n",
      "399998        0.0        0.0             0      0.0       0.0        0.0   \n",
      "399999        0.0        0.0             0      0.0       0.0        0.0   \n",
      "\n",
      "        lept4_phi  \n",
      "0             0.0  \n",
      "1             0.0  \n",
      "2             0.0  \n",
      "3             0.0  \n",
      "4             0.0  \n",
      "...           ...  \n",
      "399995        0.0  \n",
      "399996        0.0  \n",
      "399997        0.0  \n",
      "399998        0.0  \n",
      "399999        0.0  \n",
      "\n",
      "[400000 rows x 62 columns]\n"
     ]
    }
   ],
   "source": [
    "print(df)"
   ]
  },
  {
   "cell_type": "code",
   "execution_count": 61,
   "metadata": {},
   "outputs": [
    {
     "data": {
      "text/plain": [
       "0         431.3840\n",
       "1         104.5530\n",
       "2         304.6560\n",
       "3         131.5260\n",
       "4           0.0000\n",
       "            ...   \n",
       "399995     64.9411\n",
       "399996     35.3333\n",
       "399997      0.0000\n",
       "399998     53.9184\n",
       "399999     83.1383\n",
       "Name: bjet1_E, Length: 400000, dtype: float64"
      ]
     },
     "execution_count": 61,
     "metadata": {},
     "output_type": "execute_result"
    }
   ],
   "source": [
    "df.bjet1_E"
   ]
  },
  {
   "cell_type": "code",
   "execution_count": 62,
   "metadata": {},
   "outputs": [
    {
     "name": "stdout",
     "output_type": "stream",
     "text": [
      "z_norm:mean= 181.02023512500145\n",
      "z_norm:std= 188.83333889873455\n",
      "z_norm:mean= 98.73634724499615\n",
      "z_norm:std= 93.9492357092093\n",
      "z_norm:mean= 65.86293100974976\n",
      "z_norm:std= 111.93283394203361\n",
      "z_norm:mean= 34.89046987250051\n",
      "z_norm:std= 53.059609574742005\n",
      "z_norm:mean= 15.769713768249895\n",
      "z_norm:std= 54.90648979548355\n",
      "z_norm:mean= 8.10125112924995\n",
      "z_norm:std= 24.736292002315157\n",
      "z_norm:mean= 3.7153110610000097\n",
      "z_norm:std= 25.065000857258024\n",
      "z_norm:mean= 1.8386103337500117\n",
      "z_norm:std= 10.645455148789072\n"
     ]
    }
   ],
   "source": [
    "make_norm('bjet1')\n",
    "make_norm('bjet2')\n",
    "make_norm('bjet3')\n",
    "make_norm('bjet4')"
   ]
  },
  {
   "cell_type": "code",
   "execution_count": 63,
   "metadata": {},
   "outputs": [
    {
     "data": {
      "text/plain": [
       "0         1.325845\n",
       "1        -0.404946\n",
       "2         0.654735\n",
       "3        -0.262105\n",
       "4         0.000000\n",
       "            ...   \n",
       "399995   -0.614717\n",
       "399996   -0.771511\n",
       "399997    0.000000\n",
       "399998   -0.673090\n",
       "399999   -0.518351\n",
       "Name: bjet1_E, Length: 400000, dtype: float64"
      ]
     },
     "execution_count": 63,
     "metadata": {},
     "output_type": "execute_result"
    }
   ],
   "source": [
    "df.bjet1_E"
   ]
  },
  {
   "cell_type": "code",
   "execution_count": 64,
   "metadata": {},
   "outputs": [
    {
     "name": "stdout",
     "output_type": "stream",
     "text": [
      "z_norm:mean= 286.856947764747\n",
      "z_norm:std= 276.8745307011714\n",
      "z_norm:mean= 137.31218700349802\n",
      "z_norm:std= 112.49036356402678\n",
      "z_norm:mean= 184.13980365475453\n",
      "z_norm:std= 207.65215364891415\n",
      "z_norm:mean= 81.18633445550063\n",
      "z_norm:std= 69.57675172457007\n",
      "z_norm:mean= 122.17040180125089\n",
      "z_norm:std= 171.17085353766012\n",
      "z_norm:mean= 48.66640348250047\n",
      "z_norm:std= 42.16010699977445\n",
      "z_norm:mean= 81.41873953424991\n",
      "z_norm:std= 149.84496744626418\n",
      "z_norm:mean= 29.346332232499677\n",
      "z_norm:std= 31.47516001395322\n"
     ]
    }
   ],
   "source": [
    "make_norm('qjet1')\n",
    "make_norm('qjet2')\n",
    "make_norm('qjet3')\n",
    "make_norm('qjet4')"
   ]
  },
  {
   "cell_type": "code",
   "execution_count": 65,
   "metadata": {},
   "outputs": [
    {
     "name": "stdout",
     "output_type": "stream",
     "text": [
      "z_norm:mean= 31.66788463574989\n",
      "z_norm:std= 76.31834574159215\n",
      "z_norm:mean= 17.893014265000083\n",
      "z_norm:std= 39.08081987328764\n",
      "z_norm:mean= 2.880435028250023\n",
      "z_norm:std= 22.792904004929227\n",
      "z_norm:mean= 1.6099254687499955\n",
      "z_norm:std= 11.705526663968373\n",
      "z_norm:mean= 0.14136695675000013\n",
      "z_norm:std= 5.161657919123923\n",
      "z_norm:mean= 0.07914291724999996\n",
      "z_norm:std= 2.7099674064369625\n",
      "z_norm:mean= 0.003961356750000001\n",
      "z_norm:std= 0.7075060571853612\n",
      "z_norm:mean= 0.0022991897500000006\n",
      "z_norm:std= 0.35276755458316766\n"
     ]
    }
   ],
   "source": [
    "make_norm('lept1')\n",
    "make_norm('lept2')\n",
    "make_norm('lept3')\n",
    "make_norm('lept4')"
   ]
  },
  {
   "cell_type": "markdown",
   "metadata": {},
   "source": [
    "### Question 3: Can you explain why we do the following conversion ?"
   ]
  },
  {
   "cell_type": "code",
   "execution_count": 66,
   "metadata": {},
   "outputs": [],
   "source": [
    "df['lept1_charge'] = df['lept1_charge'].astype(int)\n",
    "df['lept2_charge'] = df['lept2_charge'].astype(int)\n",
    "df['lept3_charge'] = df['lept3_charge'].astype(int)\n",
    "df['lept4_charge'] = df['lept4_charge'].astype(int)"
   ]
  },
  {
   "cell_type": "markdown",
   "metadata": {},
   "source": [
    "### Question 4: What is the following command showing us ?"
   ]
  },
  {
   "cell_type": "code",
   "execution_count": 67,
   "metadata": {},
   "outputs": [
    {
     "data": {
      "text/html": [
       "<div>\n",
       "<style scoped>\n",
       "    .dataframe tbody tr th:only-of-type {\n",
       "        vertical-align: middle;\n",
       "    }\n",
       "\n",
       "    .dataframe tbody tr th {\n",
       "        vertical-align: top;\n",
       "    }\n",
       "\n",
       "    .dataframe thead th {\n",
       "        text-align: right;\n",
       "    }\n",
       "</style>\n",
       "<table border=\"1\" class=\"dataframe\">\n",
       "  <thead>\n",
       "    <tr style=\"text-align: right;\">\n",
       "      <th></th>\n",
       "      <th>EventID</th>\n",
       "      <th>ProcessID</th>\n",
       "      <th>evtweight</th>\n",
       "      <th>MET</th>\n",
       "      <th>METphi</th>\n",
       "      <th>n_bjet</th>\n",
       "      <th>n_qjet</th>\n",
       "      <th>n_muon</th>\n",
       "      <th>n_elec</th>\n",
       "      <th>n_lept</th>\n",
       "      <th>...</th>\n",
       "      <th>lept3_charge</th>\n",
       "      <th>lept3_E</th>\n",
       "      <th>lept3_pt</th>\n",
       "      <th>lept3_eta</th>\n",
       "      <th>lept3_phi</th>\n",
       "      <th>lept4_charge</th>\n",
       "      <th>lept4_E</th>\n",
       "      <th>lept4_pt</th>\n",
       "      <th>lept4_eta</th>\n",
       "      <th>lept4_phi</th>\n",
       "    </tr>\n",
       "  </thead>\n",
       "  <tbody>\n",
       "    <tr>\n",
       "      <th>0</th>\n",
       "      <td>21</td>\n",
       "      <td>ttbar</td>\n",
       "      <td>1.0</td>\n",
       "      <td>19.59240</td>\n",
       "      <td>-0.041069</td>\n",
       "      <td>2</td>\n",
       "      <td>6</td>\n",
       "      <td>0</td>\n",
       "      <td>0</td>\n",
       "      <td>0</td>\n",
       "      <td>...</td>\n",
       "      <td>0</td>\n",
       "      <td>0.0</td>\n",
       "      <td>0.0</td>\n",
       "      <td>0.0</td>\n",
       "      <td>0.0</td>\n",
       "      <td>0</td>\n",
       "      <td>0.0</td>\n",
       "      <td>0.0</td>\n",
       "      <td>0.0</td>\n",
       "      <td>0.0</td>\n",
       "    </tr>\n",
       "    <tr>\n",
       "      <th>1</th>\n",
       "      <td>21</td>\n",
       "      <td>ttbar</td>\n",
       "      <td>1.0</td>\n",
       "      <td>34.36150</td>\n",
       "      <td>-2.392770</td>\n",
       "      <td>2</td>\n",
       "      <td>0</td>\n",
       "      <td>0</td>\n",
       "      <td>1</td>\n",
       "      <td>1</td>\n",
       "      <td>...</td>\n",
       "      <td>0</td>\n",
       "      <td>0.0</td>\n",
       "      <td>0.0</td>\n",
       "      <td>0.0</td>\n",
       "      <td>0.0</td>\n",
       "      <td>0</td>\n",
       "      <td>0.0</td>\n",
       "      <td>0.0</td>\n",
       "      <td>0.0</td>\n",
       "      <td>0.0</td>\n",
       "    </tr>\n",
       "    <tr>\n",
       "      <th>2</th>\n",
       "      <td>21</td>\n",
       "      <td>ttbar</td>\n",
       "      <td>1.0</td>\n",
       "      <td>24.35600</td>\n",
       "      <td>-0.260029</td>\n",
       "      <td>1</td>\n",
       "      <td>2</td>\n",
       "      <td>1</td>\n",
       "      <td>0</td>\n",
       "      <td>1</td>\n",
       "      <td>...</td>\n",
       "      <td>0</td>\n",
       "      <td>0.0</td>\n",
       "      <td>0.0</td>\n",
       "      <td>0.0</td>\n",
       "      <td>0.0</td>\n",
       "      <td>0</td>\n",
       "      <td>0.0</td>\n",
       "      <td>0.0</td>\n",
       "      <td>0.0</td>\n",
       "      <td>0.0</td>\n",
       "    </tr>\n",
       "    <tr>\n",
       "      <th>3</th>\n",
       "      <td>21</td>\n",
       "      <td>ttbar</td>\n",
       "      <td>1.0</td>\n",
       "      <td>36.56570</td>\n",
       "      <td>-0.666041</td>\n",
       "      <td>3</td>\n",
       "      <td>2</td>\n",
       "      <td>0</td>\n",
       "      <td>0</td>\n",
       "      <td>0</td>\n",
       "      <td>...</td>\n",
       "      <td>0</td>\n",
       "      <td>0.0</td>\n",
       "      <td>0.0</td>\n",
       "      <td>0.0</td>\n",
       "      <td>0.0</td>\n",
       "      <td>0</td>\n",
       "      <td>0.0</td>\n",
       "      <td>0.0</td>\n",
       "      <td>0.0</td>\n",
       "      <td>0.0</td>\n",
       "    </tr>\n",
       "    <tr>\n",
       "      <th>4</th>\n",
       "      <td>21</td>\n",
       "      <td>ttbar</td>\n",
       "      <td>1.0</td>\n",
       "      <td>8.96628</td>\n",
       "      <td>-1.899280</td>\n",
       "      <td>0</td>\n",
       "      <td>4</td>\n",
       "      <td>0</td>\n",
       "      <td>0</td>\n",
       "      <td>0</td>\n",
       "      <td>...</td>\n",
       "      <td>0</td>\n",
       "      <td>0.0</td>\n",
       "      <td>0.0</td>\n",
       "      <td>0.0</td>\n",
       "      <td>0.0</td>\n",
       "      <td>0</td>\n",
       "      <td>0.0</td>\n",
       "      <td>0.0</td>\n",
       "      <td>0.0</td>\n",
       "      <td>0.0</td>\n",
       "    </tr>\n",
       "  </tbody>\n",
       "</table>\n",
       "<p>5 rows × 62 columns</p>\n",
       "</div>"
      ],
      "text/plain": [
       "   EventID ProcessID  evtweight       MET    METphi  n_bjet  n_qjet  n_muon  \\\n",
       "0       21     ttbar        1.0  19.59240 -0.041069       2       6       0   \n",
       "1       21     ttbar        1.0  34.36150 -2.392770       2       0       0   \n",
       "2       21     ttbar        1.0  24.35600 -0.260029       1       2       1   \n",
       "3       21     ttbar        1.0  36.56570 -0.666041       3       2       0   \n",
       "4       21     ttbar        1.0   8.96628 -1.899280       0       4       0   \n",
       "\n",
       "   n_elec  n_lept  ...  lept3_charge  lept3_E  lept3_pt  lept3_eta  lept3_phi  \\\n",
       "0       0       0  ...             0      0.0       0.0        0.0        0.0   \n",
       "1       1       1  ...             0      0.0       0.0        0.0        0.0   \n",
       "2       0       1  ...             0      0.0       0.0        0.0        0.0   \n",
       "3       0       0  ...             0      0.0       0.0        0.0        0.0   \n",
       "4       0       0  ...             0      0.0       0.0        0.0        0.0   \n",
       "\n",
       "   lept4_charge  lept4_E  lept4_pt  lept4_eta  lept4_phi  \n",
       "0             0      0.0       0.0        0.0        0.0  \n",
       "1             0      0.0       0.0        0.0        0.0  \n",
       "2             0      0.0       0.0        0.0        0.0  \n",
       "3             0      0.0       0.0        0.0        0.0  \n",
       "4             0      0.0       0.0        0.0        0.0  \n",
       "\n",
       "[5 rows x 62 columns]"
      ]
     },
     "execution_count": 67,
     "metadata": {},
     "output_type": "execute_result"
    }
   ],
   "source": [
    "df.head(5)"
   ]
  },
  {
   "cell_type": "code",
   "execution_count": 68,
   "metadata": {},
   "outputs": [
    {
     "data": {
      "text/plain": [
       "0        -0.263336\n",
       "1         0.000000\n",
       "2        -0.112621\n",
       "3         0.703539\n",
       "4        -0.367177\n",
       "            ...   \n",
       "399995    0.788325\n",
       "399996   -0.747165\n",
       "399997   -0.332985\n",
       "399998    0.156465\n",
       "399999   -0.699516\n",
       "Name: qjet1_E, Length: 400000, dtype: float64"
      ]
     },
     "execution_count": 68,
     "metadata": {},
     "output_type": "execute_result"
    }
   ],
   "source": [
    "df.qjet1_E"
   ]
  },
  {
   "cell_type": "code",
   "execution_count": 69,
   "metadata": {},
   "outputs": [],
   "source": [
    "n_obj = 2 # you can play with the number of objects (maximally 12 )\n",
    "endofstring=10+n_obj*4"
   ]
  },
  {
   "cell_type": "markdown",
   "metadata": {},
   "source": [
    "### Question 5: What is the following command doing ? Why do we need this ?"
   ]
  },
  {
   "cell_type": "code",
   "execution_count": 70,
   "metadata": {},
   "outputs": [],
   "source": [
    "process_mapping = {\n",
    "           'ttbar': 0,\n",
    "            '4top': 1}\n",
    "df['ProcessID'] = df['ProcessID'].map(process_mapping)"
   ]
  },
  {
   "cell_type": "code",
   "execution_count": 71,
   "metadata": {},
   "outputs": [
    {
     "name": "stdout",
     "output_type": "stream",
     "text": [
      "['MET', 'METphi', 'n_bjet', 'n_qjet', 'n_muon', 'n_elec', 'n_lept', 'bjet1_E', 'bjet1_pt', 'bjet1_eta', 'bjet1_phi', 'bjet2_E', 'bjet2_pt', 'bjet2_eta', 'bjet2_phi']\n"
     ]
    }
   ],
   "source": [
    "variables = df.columns[3:endofstring].tolist()\n",
    "print(variables)"
   ]
  },
  {
   "cell_type": "code",
   "execution_count": 72,
   "metadata": {},
   "outputs": [],
   "source": [
    "x = df[variables].to_numpy()\n",
    "y = pd.get_dummies(df['ProcessID']).to_numpy()"
   ]
  },
  {
   "cell_type": "markdown",
   "metadata": {},
   "source": [
    "### Question 6: Can you explain what we are doing next ? Why do we do this ? What is happening if we reduce the train_size to 0.1 ?"
   ]
  },
  {
   "cell_type": "code",
   "execution_count": 73,
   "metadata": {},
   "outputs": [],
   "source": [
    "x_train, x_test, y_train, y_test = train_test_split(x, y, train_size=0.9)"
   ]
  },
  {
   "cell_type": "markdown",
   "metadata": {},
   "source": [
    "### Question 7: Next things happen... What is a sequational model ? Explain the activation function ? What is dropout doing (we should change both in the following) ?"
   ]
  },
  {
   "cell_type": "code",
   "execution_count": 74,
   "metadata": {},
   "outputs": [],
   "source": [
    "model = Sequential()\n",
    "model.add(Dense(64, input_dim=len(variables), activation='softmax'))\n",
    "#model.add(Dropout(0.01))\n",
    "model.add(Dense(22, activation='softmax'))\n",
    "#model.add(Dense(24, activation='softmax'))\n",
    "#model.add(Dropout(0.01))\n",
    "model.add(Dense(2, activation='softmax'))"
   ]
  },
  {
   "cell_type": "markdown",
   "metadata": {},
   "source": [
    "### Question 8: Now we compile our ML model. We use a loss, optimizer and a metric. Can you explain them ? Propose a change."
   ]
  },
  {
   "cell_type": "code",
   "execution_count": 75,
   "metadata": {
    "scrolled": true
   },
   "outputs": [
    {
     "name": "stdout",
     "output_type": "stream",
     "text": [
      "Model: \"sequential_1\"\n",
      "_________________________________________________________________\n",
      "Layer (type)                 Output Shape              Param #   \n",
      "=================================================================\n",
      "dense_3 (Dense)              (None, 64)                1024      \n",
      "_________________________________________________________________\n",
      "dense_4 (Dense)              (None, 22)                1430      \n",
      "_________________________________________________________________\n",
      "dense_5 (Dense)              (None, 2)                 46        \n",
      "=================================================================\n",
      "Total params: 2,500\n",
      "Trainable params: 2,500\n",
      "Non-trainable params: 0\n",
      "_________________________________________________________________\n"
     ]
    }
   ],
   "source": [
    "model.compile(loss='binary_crossentropy',\n",
    "              optimizer='Adam',\n",
    "              metrics=['accuracy'])\n",
    "model.summary()"
   ]
  },
  {
   "cell_type": "markdown",
   "metadata": {},
   "source": [
    "### Question 9: Why do we have so many trainable parameters ? Can you draw (or explain) the network structure ?"
   ]
  },
  {
   "cell_type": "code",
   "execution_count": 76,
   "metadata": {},
   "outputs": [
    {
     "name": "stdout",
     "output_type": "stream",
     "text": [
      "Train on 324000 samples, validate on 36000 samples\n",
      "Epoch 1/10\n",
      "324000/324000 [==============================] - 3s 10us/sample - loss: 0.5079 - accuracy: 0.8004 - val_loss: 0.5026 - val_accuracy: 0.7984\n",
      "Epoch 2/10\n",
      "324000/324000 [==============================] - 3s 8us/sample - loss: 0.4998 - accuracy: 0.8004 - val_loss: 0.5028 - val_accuracy: 0.7984\n",
      "Epoch 3/10\n",
      "324000/324000 [==============================] - 3s 8us/sample - loss: 0.4998 - accuracy: 0.8004 - val_loss: 0.5029 - val_accuracy: 0.7984\n",
      "Epoch 4/10\n",
      "324000/324000 [==============================] - 3s 9us/sample - loss: 0.4998 - accuracy: 0.8004 - val_loss: 0.5026 - val_accuracy: 0.7984\n",
      "Epoch 5/10\n",
      "324000/324000 [==============================] - 3s 8us/sample - loss: 0.4998 - accuracy: 0.8004 - val_loss: 0.5027 - val_accuracy: 0.7984\n",
      "Epoch 6/10\n",
      "324000/324000 [==============================] - 3s 8us/sample - loss: 0.4999 - accuracy: 0.8004 - val_loss: 0.5026 - val_accuracy: 0.7984\n",
      "Epoch 7/10\n",
      "324000/324000 [==============================] - 3s 8us/sample - loss: 0.4998 - accuracy: 0.8004 - val_loss: 0.5028 - val_accuracy: 0.7984\n",
      "Epoch 8/10\n",
      "324000/324000 [==============================] - 3s 9us/sample - loss: 0.4998 - accuracy: 0.8004 - val_loss: 0.5026 - val_accuracy: 0.7984\n",
      "Epoch 9/10\n",
      "324000/324000 [==============================] - 3s 9us/sample - loss: 0.4998 - accuracy: 0.8004 - val_loss: 0.5026 - val_accuracy: 0.7984\n",
      "Epoch 10/10\n",
      "324000/324000 [==============================] - 3s 8us/sample - loss: 0.4998 - accuracy: 0.8004 - val_loss: 0.5026 - val_accuracy: 0.7984\n"
     ]
    }
   ],
   "source": [
    "history = model.fit(x_train, y_train, validation_split=0.1,\n",
    "          batch_size=128, verbose=1,\n",
    "          epochs=10)"
   ]
  },
  {
   "cell_type": "code",
   "execution_count": 77,
   "metadata": {},
   "outputs": [
    {
     "name": "stdout",
     "output_type": "stream",
     "text": [
      "{'loss': [0.5078530914165356, 0.49982850661101164, 0.49983542750794213, 0.4998432094314952, 0.49983506481147105, 0.49985314403345554, 0.4998414604516677, 0.4998413519329495, 0.49983646007526067, 0.4998351530616666], 'accuracy': [0.8004352, 0.8004352, 0.8004352, 0.8004352, 0.8004352, 0.8004352, 0.8004352, 0.8004352, 0.8004352, 0.8004352], 'val_loss': [0.5026389206250509, 0.5027541247473822, 0.5028965357144674, 0.5026420421600342, 0.5027309234407213, 0.5026322489844428, 0.5027563399208916, 0.5026442914538913, 0.5026402490403917, 0.5026313446362813], 'val_accuracy': [0.7983889, 0.7983889, 0.7983889, 0.7983889, 0.7983889, 0.7983889, 0.7983889, 0.7983889, 0.7983889, 0.7983889]}\n"
     ]
    }
   ],
   "source": [
    "print(history.history)"
   ]
  },
  {
   "cell_type": "markdown",
   "metadata": {},
   "source": [
    "## Question: Let us now plot the training & validation accuracy values. Why are they different ?"
   ]
  },
  {
   "cell_type": "code",
   "execution_count": 78,
   "metadata": {},
   "outputs": [
    {
     "data": {
      "text/plain": [
       "<matplotlib.legend.Legend at 0x1c6885750>"
      ]
     },
     "execution_count": 78,
     "metadata": {},
     "output_type": "execute_result"
    },
    {
     "data": {
      "image/png": "[encoded data removed]",
      "text/plain": [
       "<Figure size 432x288 with 1 Axes>"
      ]
     },
     "metadata": {
      "needs_background": "light"
     },
     "output_type": "display_data"
    }
   ],
   "source": [
    "plt.figure(1)\n",
    "plt.plot(history.history['accuracy'])\n",
    "plt.plot(history.history['val_accuracy'])\n",
    "plt.title('Model accuracy')\n",
    "plt.ylabel('Accuracy')\n",
    "plt.xlabel('Epoch')\n",
    "plt.legend(['Train', 'Test'], loc='upper left')"
   ]
  },
  {
   "cell_type": "markdown",
   "metadata": {},
   "source": [
    "## Question: The true accuracy is not 0.8, but 0.5. For an accuracy of 0.8 this network does not learn anything, but \"all events are background\". Can you explain why ? The true accuracy (for a balanced dataset) is 0.5/0.8 * the accuracy written here."
   ]
  },
  {
   "cell_type": "markdown",
   "metadata": {},
   "source": [
    "Plot training & validation loss values"
   ]
  },
  {
   "cell_type": "code",
   "execution_count": 79,
   "metadata": {},
   "outputs": [
    {
     "data": {
      "text/plain": [
       "<matplotlib.legend.Legend at 0x180933550>"
      ]
     },
     "execution_count": 79,
     "metadata": {},
     "output_type": "execute_result"
    },
    {
     "data": {
      "image/png": "[encoded data removed]",
      "text/plain": [
       "<Figure size 432x288 with 1 Axes>"
      ]
     },
     "metadata": {
      "needs_background": "light"
     },
     "output_type": "display_data"
    }
   ],
   "source": [
    "plt.figure(2)\n",
    "plt.plot(history.history['loss'])\n",
    "plt.plot(history.history['val_loss'])\n",
    "plt.title('Model loss')\n",
    "plt.ylabel('Loss')\n",
    "plt.xlabel('Epoch')\n",
    "plt.legend(['Train', 'Test'], loc='upper left')"
   ]
  },
  {
   "cell_type": "code",
   "execution_count": 80,
   "metadata": {},
   "outputs": [
    {
     "name": "stdout",
     "output_type": "stream",
     "text": [
      "[[31917     0]\n",
      " [ 8083     0]]\n"
     ]
    }
   ],
   "source": [
    "y_pred = model.predict(x_test)[:, 1]\n",
    "y_binary = 1.0*(y_pred > 0.5)\n",
    "classes = y_test[:, 1]\n",
    "print(confusion_matrix(y_test[:, 1], y_binary, labels=[0, 1]))"
   ]
  },
  {
   "cell_type": "code",
   "execution_count": 81,
   "metadata": {},
   "outputs": [
    {
     "data": {
      "text/plain": [
       "<matplotlib.legend.Legend at 0x1620fb050>"
      ]
     },
     "execution_count": 81,
     "metadata": {},
     "output_type": "execute_result"
    },
    {
     "data": {
      "image/png": "[encoded data removed]",
      "text/plain": [
       "<Figure size 432x288 with 1 Axes>"
      ]
     },
     "metadata": {
      "needs_background": "light"
     },
     "output_type": "display_data"
    }
   ],
   "source": [
    "plt.figure(3)\n",
    "plt.hist(y_pred[classes == 0], 100, histtype=\"step\", label=\"ttbar\")\n",
    "plt.hist(y_pred[classes == 1], 100, histtype=\"step\", label=\"4top\")\n",
    "plt.axvline(0.5,color='g')\n",
    "plt.xlabel(\"Prediction\")\n",
    "plt.ylabel(\"#\")\n",
    "plt.grid()\n",
    "plt.yscale(\"log\")\n",
    "plt.legend()"
   ]
  },
  {
   "cell_type": "code",
   "execution_count": 82,
   "metadata": {},
   "outputs": [],
   "source": [
    "x_truly_ttbar = x_test[y_test[:, 1] == 0]\n",
    "y_binary_ttbar = y_binary[y_test[:, 1] == 0] \n",
    "x_ttbar_right = x_truly_ttbar[y_binary_ttbar == 0]\n",
    "x_ttbar_wrong = x_truly_ttbar[y_binary_ttbar == 1]"
   ]
  },
  {
   "cell_type": "code",
   "execution_count": 83,
   "metadata": {},
   "outputs": [],
   "source": [
    "x_truly_4top = x_test[y_test[:, 1] == 1]\n",
    "y_binary_4top = y_binary[y_test[:, 1] == 1] \n",
    "x_4top_right = x_truly_4top[y_binary_4top == 1]\n",
    "x_4top_wrong = x_truly_4top[y_binary_4top == 0]"
   ]
  },
  {
   "cell_type": "code",
   "execution_count": 84,
   "metadata": {},
   "outputs": [],
   "source": [
    "def count_objects(events, objid=\"\"):\n",
    "  n_objects = np.zeros(len(events))\n",
    "  for i, v in enumerate(variables):\n",
    "    if v in objid:\n",
    "      n_objects += events[:, i]\n",
    "  return n_objects"
   ]
  },
  {
   "cell_type": "code",
   "execution_count": 85,
   "metadata": {},
   "outputs": [],
   "source": [
    "count_objid = \"n_bjet,n_qjet,n_lept\""
   ]
  },
  {
   "cell_type": "code",
   "execution_count": 86,
   "metadata": {},
   "outputs": [
    {
     "data": {
      "text/plain": [
       "<matplotlib.legend.Legend at 0x181787c50>"
      ]
     },
     "execution_count": 86,
     "metadata": {},
     "output_type": "execute_result"
    },
    {
     "data": {
      "image/png": "[encoded data removed]",
      "text/plain": [
       "<Figure size 432x288 with 1 Axes>"
      ]
     },
     "metadata": {
      "needs_background": "light"
     },
     "output_type": "display_data"
    }
   ],
   "source": [
    "plt.figure(4)\n",
    "bins = np.arange(-0.5, n_obj+0.5, 1)\n",
    "plt.hist(count_objects(x_ttbar_right, count_objid), bins, histtype=\"step\", label=\"Truly ttbar\")\n",
    "plt.hist(count_objects(x_ttbar_wrong, count_objid), bins, histtype=\"step\", label=\"Wrong ttbar\")\n",
    "plt.hist(count_objects(x_4top_right, count_objid), bins, histtype=\"step\", label=\"Truly 4top\")\n",
    "plt.hist(count_objects(x_4top_wrong, count_objid), bins, histtype=\"step\", label=\"Wrong 4top\")\n",
    "plt.xlabel(\"#objects : \" + count_objid)\n",
    "plt.ylabel(\"#\")\n",
    "plt.grid()\n",
    "plt.yscale(\"log\")\n",
    "plt.legend()"
   ]
  },
  {
   "cell_type": "code",
   "execution_count": 87,
   "metadata": {},
   "outputs": [
    {
     "data": {
      "text/plain": [
       "(0, 1)"
      ]
     },
     "execution_count": 87,
     "metadata": {},
     "output_type": "execute_result"
    },
    {
     "data": {
      "image/png": "[encoded data removed]",
      "text/plain": [
       "<Figure size 432x288 with 1 Axes>"
      ]
     },
     "metadata": {
      "needs_background": "light"
     },
     "output_type": "display_data"
    }
   ],
   "source": [
    "fpr, tpr, _ = roc_curve(y_test[:, 1], y_pred)\n",
    "plt.figure(5)\n",
    "plt.plot(fpr, tpr)\n",
    "plt.xlabel(\"FPR\")\n",
    "plt.ylabel(\"TPR\")\n",
    "plt.grid()\n",
    "plt.xlim([0, 1])\n",
    "plt.ylim([0, 1])"
   ]
  }
 ],
 "metadata": {
  "kernelspec": {
   "display_name": "Python 3",
   "language": "python",
   "name": "python3"
  },
  "language_info": {
   "codemirror_mode": {
    "name": "ipython",
    "version": 3
   },
   "file_extension": ".py",
   "mimetype": "text/x-python",
   "name": "python",
   "nbconvert_exporter": "python",
   "pygments_lexer": "ipython3",
   "version": "3.7.6"
  }
 },
 "nbformat": 4,
 "nbformat_minor": 2
}
